{
  "nbformat": 4,
  "nbformat_minor": 0,
  "metadata": {
    "colab": {
      "name": "median.ipynb",
      "provenance": [],
      "authorship_tag": "ABX9TyP7X8Mjyeqsnbg+I0oGKRik",
      "include_colab_link": true
    },
    "kernelspec": {
      "name": "python3",
      "display_name": "Python 3"
    },
    "language_info": {
      "name": "python"
    }
  },
  "cells": [
    {
      "cell_type": "markdown",
      "metadata": {
        "id": "view-in-github",
        "colab_type": "text"
      },
      "source": [
        "<a href=\"https://colab.research.google.com/github/InowaR/points/blob/main/median.ipynb\" target=\"_parent\"><img src=\"https://colab.research.google.com/assets/colab-badge.svg\" alt=\"Open In Colab\"/></a>"
      ]
    },
    {
      "cell_type": "code",
      "execution_count": 30,
      "metadata": {
        "colab": {
          "base_uri": "https://localhost:8080/",
          "height": 265
        },
        "id": "qIGmq6DOSNfV",
        "outputId": "3544aec0-565d-48b0-b1c7-e340cbd43662"
      },
      "outputs": [
        {
          "output_type": "display_data",
          "data": {
            "text/plain": [
              "<Figure size 432x288 with 1 Axes>"
            ],
            "image/png": "[encoded data removed]"
          },
          "metadata": {
            "needs_background": "light"
          }
        }
      ],
      "source": [
        "import math\n",
        "import matplotlib.pyplot as plt\n",
        "def median():\n",
        "  AO = 5\n",
        "  BO = 5\n",
        "  a = 37\n",
        "  b = 37\n",
        "  a_rad = a * math.pi / 180\n",
        "  b_rad = b * math.pi / 180\n",
        "  AB = math.sqrt(AO**2 + BO**2 - 2 * AO * BO * math.cos(a_rad + b_rad))\n",
        "  AM = 0.5 * AB\n",
        "  OM = 0.5 * math.sqrt(2 * AO**2 + 2 * BO**2 - AB**2)\n",
        "  cos_y = (OM**2 + BO**2 - AM**2) / (2 * OM * BO)\n",
        "  acos_y = math.acos(cos_y) * 180 / math.pi\n",
        "  angle = b - acos_y\n",
        "  m_X = OM * math.sin(angle * math.pi / 180)\n",
        "  m_Y = OM * math.cos(angle * math.pi / 180)\n",
        "  m = plt.quiver(m_X, m_Y, color = 'b', scale = 20)\n",
        "  plt.show()\n",
        "median()"
      ]
    }
  ]
}