{
  "nbformat": 4,
  "nbformat_minor": 0,
  "metadata": {
    "colab": {
      "name": "plot.ipynb",
      "provenance": [],
      "authorship_tag": "ABX9TyMsDczu6slj+BbxtXPifruT",
      "include_colab_link": true
    },
    "kernelspec": {
      "name": "python3",
      "display_name": "Python 3"
    },
    "language_info": {
      "name": "python"
    }
  },
  "cells": [
    {
      "cell_type": "markdown",
      "metadata": {
        "id": "view-in-github",
        "colab_type": "text"
      },
      "source": [
        "<a href=\"https://colab.research.google.com/github/InowaR/points/blob/main/plot.ipynb\" target=\"_parent\"><img src=\"https://colab.research.google.com/assets/colab-badge.svg\" alt=\"Open In Colab\"/></a>"
      ]
    },
    {
      "cell_type": "code",
      "execution_count": 71,
      "metadata": {
        "id": "zv8iCio6HqEp"
      },
      "outputs": [],
      "source": [
        "import numpy as np\n",
        "import math\n",
        "import matplotlib.pyplot as plt\n",
        "\n",
        "class Point:\n",
        "  def __init__(self, angle, position, distance):\n",
        "    self.angle = angle\n",
        "    self.position = position\n",
        "    self.distance = distance\n",
        "  def getX(self):\n",
        "    if self.position == 1:\n",
        "      return -math.sin(self.angle * math.pi / 180) * self.distance\n",
        "    if self.position == 2:\n",
        "      return math.sin(self.angle * math.pi / 180) * self.distance\n",
        "    if self.position == 3:\n",
        "      return math.sin(self.angle * math.pi / 180) * self.distance\n",
        "    if self.position == 4:\n",
        "      return -math.sin(self.angle * math.pi / 180) * self.distance\n",
        "  def getY(self):\n",
        "    if self.position == 1:\n",
        "      return math.cos(self.angle * math.pi / 180) * self.distance\n",
        "    if self.position == 2:\n",
        "      return math.cos(self.angle * math.pi / 180) * self.distance\n",
        "    if self.position == 3:\n",
        "      return -math.cos(self.angle * math.pi / 180) * self.distance\n",
        "    if self.position == 4:\n",
        "      return -math.cos(self.angle * math.pi / 180) * self.distance"
      ]
    },
    {
      "cell_type": "code",
      "source": [
        "def median():\n",
        "  A = Point(0,1,3)#\n",
        "  B = Point(40,2,5)#            all points to check       \n",
        "  points = [A, B]#         \n",
        "  # ---------------------------------------------------------------------\n",
        "  y = sorted(points, key = lambda points: points.getY())\n",
        "  if len(y) > 2:\n",
        "    y = y[2:]\n",
        "  firstX = y[0].getX()\n",
        "  firstY = y[0].getY()\n",
        "  secondX = y[1].getX()\n",
        "  secondY = y[1].getY()\n",
        "  AM = np.array([0.5 * (secondX - firstX), 0.5 * (secondY - firstY)])\n",
        "  A = np.array([firstX, firstY])\n",
        "  M = A + AM\n",
        "  OM = math.sqrt(sum(M**2))\n",
        "  OB = y[1].distance\n",
        "  AM = math.sqrt(sum(AM**2))\n",
        "  cos_a = (OM**2 + OB**2 - AM**2) / (2 * OM * OB)\n",
        "  acos_a = math.acos(cos_a) * 180 / math.pi\n",
        "  m_angle = y[1].angle - acos_a\n",
        "  m_X = OM * math.sin(m_angle * math.pi / 180)\n",
        "  m_Y = OM * math.cos(m_angle * math.pi / 180)\n",
        "  a = plt.quiver(firstX, firstY, scale = 20)\n",
        "  b = plt.quiver(secondX, secondY, scale = 20)\n",
        "  m = plt.quiver(m_X, m_Y, color = 'b', scale = 20)\n",
        "  plt.show()\n",
        "median()"
      ],
      "metadata": {
        "colab": {
          "base_uri": "https://localhost:8080/",
          "height": 265
        },
        "id": "y-E9wecMytai",
        "outputId": "0cdd5bcf-437d-4057-c25c-9652212bcd48"
      },
      "execution_count": 111,
      "outputs": [
        {
          "output_type": "display_data",
          "data": {
            "text/plain": [
              "<Figure size 432x288 with 1 Axes>"
            ],
            "image/png": "[encoded data removed]"
          },
          "metadata": {
            "needs_background": "light"
          }
        }
      ]
    }
  ]
}