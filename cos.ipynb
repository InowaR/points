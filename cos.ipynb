{
  "nbformat": 4,
  "nbformat_minor": 0,
  "metadata": {
    "colab": {
      "name": "cos.ipynb",
      "provenance": [],
      "authorship_tag": "ABX9TyMtFChu3jxfQLBXWSfo1QZh",
      "include_colab_link": true
    },
    "kernelspec": {
      "name": "python3",
      "display_name": "Python 3"
    },
    "language_info": {
      "name": "python"
    }
  },
  "cells": [
    {
      "cell_type": "markdown",
      "metadata": {
        "id": "view-in-github",
        "colab_type": "text"
      },
      "source": [
        "<a href=\"https://colab.research.google.com/github/InowaR/points/blob/main/cos.ipynb\" target=\"_parent\"><img src=\"https://colab.research.google.com/assets/colab-badge.svg\" alt=\"Open In Colab\"/></a>"
      ]
    },
    {
      "cell_type": "code",
      "execution_count": 57,
      "metadata": {
        "id": "zv8iCio6HqEp"
      },
      "outputs": [],
      "source": [
        "import numpy as np\n",
        "import math\n",
        "\n",
        "class Point:\n",
        "\n",
        "  def __init__(self, angle, position, distance):\n",
        "    self.angle = angle\n",
        "    self.position = position\n",
        "    self.distance = distance\n",
        "\n",
        "  def getX(self):\n",
        "    if self.position == 1:\n",
        "      return -math.sin(self.angle * math.pi / 180) * self.distance\n",
        "    if self.position == 2:\n",
        "      return math.sin(self.angle * math.pi / 180) * self.distance\n",
        "    if self.position == 3:\n",
        "      return math.sin(self.angle * math.pi / 180) * self.distance\n",
        "    if self.position == 4:\n",
        "      return -math.sin(self.angle * math.pi / 180) * self.distance\n",
        "  \n",
        "  def getY(self):\n",
        "    if self.position == 1:\n",
        "      return math.cos(self.angle * math.pi / 180) * self.distance\n",
        "    if self.position == 2:\n",
        "      return math.cos(self.angle * math.pi / 180) * self.distance\n",
        "    if self.position == 3:\n",
        "      return -math.cos(self.angle * math.pi / 180) * self.distance\n",
        "    if self.position == 4:\n",
        "      return -math.cos(self.angle * math.pi / 180) * self.distance"
      ]
    },
    {
      "cell_type": "code",
      "source": [
        "A = Point(37,1,5)#\n",
        "B = Point(37,2,5)#            all points to check\n",
        "C = Point(37,3,5)#       \n",
        "D = Point(37,4,5)#\n",
        "points = [A, B, C, D]#\n",
        "# ---------------------------------------------------------------------\n",
        "y = sorted(points, key = lambda points: points.getY())\n",
        "y = y[2:]#<-----------------------------------------------------------2 points\n",
        "firstX = y[0].getX()\n",
        "firstY = y[0].getY()\n",
        "secondX = y[1].getX()\n",
        "secondY = y[1].getY()\n",
        "AM = np.array([0.5 * (secondX - firstX), 0.5 * (secondY - firstY)])\n",
        "A = np.array([firstX, firstY])\n",
        "M = A + AM\n",
        "OM = math.sqrt(sum(M**2))\n",
        "OB = y[1].distance\n",
        "AM = math.sqrt(sum(AM**2))\n",
        "cos_a = (OM**2 + OB**2 - AM**2) / (2 * OM * OB)\n",
        "acos_a = math.acos(cos_a) * 180 / math.pi#<---------------------------------37\n",
        "print(acos_a)\n",
        "m_angle = y[1].angle - acos_a#<----------------------------------------------0\n",
        "print(m_angle)"
      ],
      "metadata": {
        "colab": {
          "base_uri": "https://localhost:8080/"
        },
        "id": "P2QKJ-QrJaJJ",
        "outputId": "a319bc41-fbdd-4315-95b3-4894f5f909d8"
      },
      "execution_count": 114,
      "outputs": [
        {
          "output_type": "stream",
          "name": "stdout",
          "text": [
            "37.0\n",
            "0.0\n"
          ]
        }
      ]
    }
  ]
}