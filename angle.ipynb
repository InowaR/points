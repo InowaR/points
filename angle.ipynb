{
  "nbformat": 4,
  "nbformat_minor": 0,
  "metadata": {
    "colab": {
      "name": "angle.ipynb",
      "provenance": [],
      "authorship_tag": "ABX9TyPDbqGRkc2FIeL5/TfdInKP",
      "include_colab_link": true
    },
    "kernelspec": {
      "name": "python3",
      "display_name": "Python 3"
    },
    "language_info": {
      "name": "python"
    }
  },
  "cells": [
    {
      "cell_type": "markdown",
      "metadata": {
        "id": "view-in-github",
        "colab_type": "text"
      },
      "source": [
        "<a href=\"https://colab.research.google.com/github/InowaR/points/blob/main/angle.ipynb\" target=\"_parent\"><img src=\"https://colab.research.google.com/assets/colab-badge.svg\" alt=\"Open In Colab\"/></a>"
      ]
    },
    {
      "cell_type": "code",
      "execution_count": 2,
      "metadata": {
        "colab": {
          "base_uri": "https://localhost:8080/"
        },
        "id": "ATYYdiEt-NUl",
        "outputId": "9391d39c-3760-48dd-df9e-cae42d3fddad"
      },
      "outputs": [
        {
          "output_type": "stream",
          "name": "stdout",
          "text": [
            "36.86989764584401\n"
          ]
        }
      ],
      "source": [
        "import math\n",
        "\n",
        "a = 0.8\n",
        "\n",
        "b = math.acos(a) * 180 / math.pi\n",
        "\n",
        "print(b)"
      ]
    }
  ]
}