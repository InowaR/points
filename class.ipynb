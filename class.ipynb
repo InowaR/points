{
  "nbformat": 4,
  "nbformat_minor": 0,
  "metadata": {
    "colab": {
      "name": "class.ipynb",
      "provenance": [],
      "authorship_tag": "ABX9TyPpwcEgUZxVUeNwH49ZxNaR",
      "include_colab_link": true
    },
    "kernelspec": {
      "name": "python3",
      "display_name": "Python 3"
    },
    "language_info": {
      "name": "python"
    }
  },
  "cells": [
    {
      "cell_type": "markdown",
      "metadata": {
        "id": "view-in-github",
        "colab_type": "text"
      },
      "source": [
        "<a href=\"https://colab.research.google.com/github/InowaR/points/blob/main/class.ipynb\" target=\"_parent\"><img src=\"https://colab.research.google.com/assets/colab-badge.svg\" alt=\"Open In Colab\"/></a>"
      ]
    },
    {
      "cell_type": "code",
      "execution_count": 125,
      "metadata": {
        "colab": {
          "base_uri": "https://localhost:8080/"
        },
        "outputId": "89173c0e-20ca-4a2f-eb9e-20b2e0aa8413",
        "id": "ZVzxa7aWjBTS"
      },
      "outputs": [
        {
          "output_type": "stream",
          "name": "stdout",
          "text": [
            "-3.0090751157602416\n",
            "3.993177550236464\n",
            "3.0090751157602416\n",
            "3.993177550236464\n"
          ]
        }
      ],
      "source": [
        "import math\n",
        "\n",
        "class Point:\n",
        "\n",
        "  def __init__(self, angle, position, distance):\n",
        "    self.angle = angle\n",
        "    self.position = position\n",
        "    self.distance = distance\n",
        "\n",
        "  def getX(self):\n",
        "    if self.position == 1:\n",
        "      return -math.sin(self.angle * math.pi / 180) * self.distance\n",
        "    if self.position == 2:\n",
        "      return math.sin(self.angle * math.pi / 180) * self.distance\n",
        "    if self.position == 3:\n",
        "      return math.sin(self.angle * math.pi / 180) * self.distance\n",
        "    if self.position == 4:\n",
        "      return -math.sin(self.angle * math.pi / 180) * self.distance\n",
        "  \n",
        "  def getY(self):\n",
        "    if self.position == 1:\n",
        "      return math.cos(self.angle * math.pi / 180) * self.distance\n",
        "    if self.position == 2:\n",
        "      return math.cos(self.angle * math.pi / 180) * self.distance\n",
        "    if self.position == 3:\n",
        "      return -math.cos(self.angle * math.pi / 180) * self.distance\n",
        "    if self.position == 4:\n",
        "      return -math.cos(self.angle * math.pi / 180) * self.distance\n",
        "\n",
        "left = Point(37,1,5)\n",
        "right = Point(37,2,5)\n",
        "print(left.getX())\n",
        "print(left.getY())\n",
        "print(right.getX())\n",
        "print(right.getY())"
      ]
    }
  ]
}